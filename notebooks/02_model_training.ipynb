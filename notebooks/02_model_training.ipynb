{
 "cells": [
  {
   "cell_type": "code",
   "execution_count": 3,
   "metadata": {},
   "outputs": [],
   "source": [
    "# Required Libraries\n",
    "import pandas as pd\n",
    "import numpy as np\n",
    "import matplotlib.pyplot as plt\n",
    "import seaborn as sns\n",
    "from sklearn.model_selection import train_test_split\n",
    "from sklearn.preprocessing import StandardScaler, LabelEncoder\n",
    "from sklearn.metrics import accuracy_score, precision_score, recall_score, f1_score, confusion_matrix, classification_report\n",
    "from sklearn.tree import DecisionTreeClassifier\n",
    "from sklearn.ensemble import RandomForestClassifier, GradientBoostingClassifier\n",
    "from sklearn.svm import SVC\n",
    "from sklearn.neighbors import KNeighborsClassifier\n",
    "from sklearn.metrics import accuracy_score, precision_score, recall_score, f1_score\n",
    "import xgboost as xgb\n",
    "from sklearn.linear_model import LogisticRegression\n",
    "\n"
   ]
  },
  {
   "cell_type": "code",
   "execution_count": 5,
   "metadata": {},
   "outputs": [],
   "source": [
    "# Import preprocessed data from the 'data/processed' folder\n",
    "X_train = pd.read_csv('../data/processed/X_train_scaled.csv')\n",
    "X_test = pd.read_csv('../data/processed/X_test_scaled.csv')\n",
    "y_train = pd.read_csv('../data/processed/y_train.csv').squeeze()  # Squeeze to convert it to Series\n",
    "y_test = pd.read_csv('../data/processed/y_test.csv').squeeze()    # Squeeze to convert it to Series\n",
    "\n",
    "\n"
   ]
  },
  {
   "cell_type": "code",
   "execution_count": 6,
   "metadata": {},
   "outputs": [],
   "source": [
    "# Initialize models\n",
    "models = {\n",
    "    'Logistic Regression': LogisticRegression(),\n",
    "    'Random Forest': RandomForestClassifier(),\n",
    "    'SVM': SVC(),\n",
    "    'Gradient Boosting': GradientBoostingClassifier(),\n",
    "    'K-Nearest Neighbors': KNeighborsClassifier(),\n",
    "    'XGBoost': xgb.XGBClassifier()\n",
    "}\n"
   ]
  },
  {
   "cell_type": "code",
   "execution_count": 7,
   "metadata": {},
   "outputs": [
    {
     "name": "stdout",
     "output_type": "stream",
     "text": [
      "Model: Logistic Regression\n",
      "Accuracy: 0.8162\n",
      "Precision: 0.6781\n",
      "Recall: 0.5818\n",
      "F1 Score: 0.6263\n",
      "----------------------------------------\n",
      "Model: Random Forest\n",
      "Accuracy: 0.7970\n",
      "Precision: 0.6605\n",
      "Recall: 0.4799\n",
      "F1 Score: 0.5559\n",
      "----------------------------------------\n",
      "Model: SVM\n",
      "Accuracy: 0.8070\n",
      "Precision: 0.6850\n",
      "Recall: 0.5013\n",
      "F1 Score: 0.5789\n",
      "----------------------------------------\n",
      "Model: Gradient Boosting\n",
      "Accuracy: 0.8041\n",
      "Precision: 0.6678\n",
      "Recall: 0.5174\n",
      "F1 Score: 0.5831\n",
      "----------------------------------------\n",
      "Model: K-Nearest Neighbors\n",
      "Accuracy: 0.7587\n",
      "Precision: 0.5481\n",
      "Recall: 0.5040\n",
      "F1 Score: 0.5251\n",
      "----------------------------------------\n",
      "Model: XGBoost\n",
      "Accuracy: 0.7821\n",
      "Precision: 0.6078\n",
      "Recall: 0.4987\n",
      "F1 Score: 0.5479\n",
      "----------------------------------------\n"
     ]
    }
   ],
   "source": [
    "\n",
    "# Initialize a dictionary to store the results\n",
    "model_results = {}\n",
    "\n",
    "# Loop through each model and evaluate\n",
    "for model_name, model in models.items():\n",
    "    # Train the model\n",
    "    model.fit(X_train, y_train)\n",
    "    \n",
    "    # Predict on the test set\n",
    "    y_pred = model.predict(X_test)\n",
    "    \n",
    "    # Calculate evaluation metrics\n",
    "    accuracy = accuracy_score(y_test, y_pred)\n",
    "    precision = precision_score(y_test, y_pred)\n",
    "    recall = recall_score(y_test, y_pred)\n",
    "    f1 = f1_score(y_test, y_pred)\n",
    "    \n",
    "    # Store the results\n",
    "    model_results[model_name] = {\n",
    "        'Accuracy': accuracy,\n",
    "        'Precision': precision,\n",
    "        'Recall': recall,\n",
    "        'F1 Score': f1\n",
    "    }\n",
    "\n",
    "# Print the evaluation results for each model\n",
    "for model_name, metrics in model_results.items():\n",
    "    print(f\"Model: {model_name}\")\n",
    "    for metric_name, value in metrics.items():\n",
    "        print(f\"{metric_name}: {value:.4f}\")\n",
    "    print(\"-\" * 40)"
   ]
  },
  {
   "cell_type": "code",
   "execution_count": 8,
   "metadata": {},
   "outputs": [
    {
     "name": "stdout",
     "output_type": "stream",
     "text": [
      "                     Accuracy  Precision    Recall  F1 Score\n",
      "Logistic Regression  0.816182   0.678125  0.581769  0.626263\n",
      "Random Forest        0.797019   0.660517  0.479893  0.555901\n",
      "SVM                  0.806955   0.684982  0.501340  0.578947\n",
      "Gradient Boosting    0.804116   0.667820  0.517426  0.583082\n",
      "K-Nearest Neighbors  0.758694   0.548105  0.504021  0.525140\n",
      "XGBoost              0.782115   0.607843  0.498660  0.547865\n"
     ]
    }
   ],
   "source": [
    "# Display results for each model\n",
    "results_df = pd.DataFrame(model_results).T\n",
    "print(results_df)\n"
   ]
  },
  {
   "cell_type": "code",
   "execution_count": 9,
   "metadata": {},
   "outputs": [
    {
     "name": "stdout",
     "output_type": "stream",
     "text": [
      "The best model is: Logistic Regression\n"
     ]
    }
   ],
   "source": [
    "# Get the best model based on the highest F1 score\n",
    "best_model = results_df['F1 Score'].idxmax()\n",
    "print(f\"The best model is: {best_model}\")\n"
   ]
  },
  {
   "cell_type": "code",
   "execution_count": 10,
   "metadata": {},
   "outputs": [
    {
     "name": "stdout",
     "output_type": "stream",
     "text": [
      "Final Evaluation of Logistic Regression:\n",
      "Accuracy: 0.8162\n",
      "Precision: 0.6781\n",
      "Recall: 0.5818\n",
      "F1 Score: 0.6263\n"
     ]
    }
   ],
   "source": [
    "# Train the best model on the full training data\n",
    "best_model_instance = models[best_model]\n",
    "best_model_instance.fit(X_train, y_train)\n",
    "\n",
    "# Final evaluation\n",
    "y_pred_best = best_model_instance.predict(X_test)\n",
    "\n",
    "# Evaluate performance again\n",
    "final_accuracy = accuracy_score(y_test, y_pred_best)\n",
    "final_precision = precision_score(y_test, y_pred_best)\n",
    "final_recall = recall_score(y_test, y_pred_best)\n",
    "final_f1 = f1_score(y_test, y_pred_best)\n",
    "\n",
    "print(f\"Final Evaluation of {best_model}:\")\n",
    "print(f\"Accuracy: {final_accuracy:.4f}\")\n",
    "print(f\"Precision: {final_precision:.4f}\")\n",
    "print(f\"Recall: {final_recall:.4f}\")\n",
    "print(f\"F1 Score: {final_f1:.4f}\")\n"
   ]
  },
  {
   "cell_type": "code",
   "execution_count": 11,
   "metadata": {},
   "outputs": [
    {
     "name": "stdout",
     "output_type": "stream",
     "text": [
      "Accuracy: 0.8161816891412349\n",
      "              precision    recall  f1-score   support\n",
      "\n",
      "           0       0.86      0.90      0.88      1036\n",
      "           1       0.68      0.58      0.63       373\n",
      "\n",
      "    accuracy                           0.82      1409\n",
      "   macro avg       0.77      0.74      0.75      1409\n",
      "weighted avg       0.81      0.82      0.81      1409\n",
      "\n"
     ]
    }
   ],
   "source": [
    "from sklearn.linear_model import LogisticRegression\n",
    "from sklearn.metrics import accuracy_score, classification_report\n",
    "import joblib\n",
    "# Instantiate and train the model\n",
    "model = LogisticRegression()\n",
    "model.fit(X_train, y_train)\n",
    "\n",
    "# Make predictions\n",
    "y_pred = model.predict(X_test)\n",
    "\n",
    "# Evaluate the model\n",
    "print(\"Accuracy:\", accuracy_score(y_test, y_pred))\n",
    "print(classification_report(y_test, y_pred))\n",
    "\n"
   ]
  },
  {
   "cell_type": "code",
   "execution_count": 14,
   "metadata": {},
   "outputs": [
    {
     "name": "stdout",
     "output_type": "stream",
     "text": [
      "Confusion Matrix:\n",
      " [[933 103]\n",
      " [156 217]]\n"
     ]
    }
   ],
   "source": [
    "from sklearn.metrics import confusion_matrix, roc_auc_score, roc_curve\n",
    "\n",
    "# Confusion Matrix\n",
    "conf_matrix = confusion_matrix(y_test, y_pred)\n",
    "print(\"Confusion Matrix:\\n\", conf_matrix)\n",
    "\n"
   ]
  },
  {
   "cell_type": "code",
   "execution_count": 15,
   "metadata": {},
   "outputs": [
    {
     "name": "stdout",
     "output_type": "stream",
     "text": [
      "ROC-AUC Score: 0.741174293788235\n"
     ]
    }
   ],
   "source": [
    "# ROC-AUC Score\n",
    "roc_auc = roc_auc_score(y_test, y_pred)\n",
    "print(\"ROC-AUC Score:\", roc_auc)\n",
    "\n"
   ]
  },
  {
   "cell_type": "code",
   "execution_count": 16,
   "metadata": {},
   "outputs": [
    {
     "data": {
      "image/png": "[encoded data removed]",
      "text/plain": [
       "<Figure size 640x480 with 1 Axes>"
      ]
     },
     "metadata": {},
     "output_type": "display_data"
    }
   ],
   "source": [
    "# ROC Curve\n",
    "fpr, tpr, _ = roc_curve(y_test, model.predict_proba(X_test)[:, 1])\n",
    "plt.plot(fpr, tpr, label=\"ROC Curve\")\n",
    "plt.plot([0, 1], [0, 1], linestyle=\"--\")\n",
    "plt.xlabel(\"False Positive Rate\")\n",
    "plt.ylabel(\"True Positive Rate\")\n",
    "plt.title(\"ROC Curve\")\n",
    "plt.show()"
   ]
  },
  {
   "cell_type": "code",
   "execution_count": 17,
   "metadata": {},
   "outputs": [
    {
     "data": {
      "text/plain": [
       "['../models/Customer_churn_rate_model.pkl']"
      ]
     },
     "execution_count": 17,
     "metadata": {},
     "output_type": "execute_result"
    }
   ],
   "source": [
    "# Save the models\n",
    "joblib.dump(model, '../models/Customer_churn_rate_model.pkl')"
   ]
  },
  {
   "cell_type": "code",
   "execution_count": null,
   "metadata": {},
   "outputs": [],
   "source": []
  }
 ],
 "metadata": {
  "kernelspec": {
   "display_name": "Python 3",
   "language": "python",
   "name": "python3"
  },
  "language_info": {
   "codemirror_mode": {
    "name": "ipython",
    "version": 3
   },
   "file_extension": ".py",
   "mimetype": "text/x-python",
   "name": "python",
   "nbconvert_exporter": "python",
   "pygments_lexer": "ipython3",
   "version": "3.11.9"
  }
 },
 "nbformat": 4,
 "nbformat_minor": 2
}
